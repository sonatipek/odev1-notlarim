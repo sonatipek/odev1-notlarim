{
 "cells": [
  {
   "cell_type": "markdown",
   "metadata": {},
   "source": [
    "### 1. **`groupby()` ve `agg()`**\n",
    "Bu iki metod genellikle birlikte kullanılır ama farklı işlevleri vardır. Gruplama işlemleriyle ilgilidirler.\n",
    "\n",
    "#### **`groupby()`**\n",
    "- **Ne yapar?** Veriyi belirli bir sütuna (veya sütunlara) göre gruplara ayırır. Mesela, bir satış tablon varsa ve her şehirdeki satışları ayrı ayrı incelemek istiyorsan, şehirlere göre gruplama yaparsın.\n",
    "- **Nasıl çalışır?** Gruplama yaptıktan sonra, her grup üzerinde bir işlem (toplama, ortalama alma gibi) yapman gerekir. `groupby()` tek başına bir sonuç vermez, sadece veriyi gruplar.\n",
    "- **Kullanımı:**\n",
    "  ```python\n",
    "  import pandas as pd\n",
    "\n",
    "  df = pd.DataFrame({\n",
    "      'Şehir': ['Ankara', 'İstanbul', 'Ankara', 'İzmir'],\n",
    "      'Satış': [100, 200, 150, 300]\n",
    "  })\n",
    "\n",
    "  gruplar = df.groupby('Şehir')\n",
    "  print(gruplar.sum())  # Her şehirdeki toplam satış\n",
    "  ```\n",
    "- **Ne zaman kullanılır?** Veriyi kategorilere ayırıp her kategori için bir özet bilgi (toplam, ortalama vb.) almak istediğinde."
   ]
  },
  {
   "cell_type": "code",
   "execution_count": 8,
   "metadata": {},
   "outputs": [
    {
     "data": {
      "application/vnd.microsoft.datawrangler.viewer.v0+json": {
       "columns": [
        {
         "name": "Şehir",
         "rawType": "object",
         "type": "string"
        },
        {
         "name": "Satış",
         "rawType": "int64",
         "type": "integer"
        }
       ],
       "conversionMethod": "pd.DataFrame",
       "ref": "bbe76345-c616-45a0-bd05-2b23aeaf4293",
       "rows": [
        [
         "Ankara",
         "400"
        ],
        [
         "İstanbul",
         "150"
        ],
        [
         "İzmir",
         "200"
        ]
       ],
       "shape": {
        "columns": 1,
        "rows": 3
       }
      },
      "text/html": [
       "<div>\n",
       "<style scoped>\n",
       "    .dataframe tbody tr th:only-of-type {\n",
       "        vertical-align: middle;\n",
       "    }\n",
       "\n",
       "    .dataframe tbody tr th {\n",
       "        vertical-align: top;\n",
       "    }\n",
       "\n",
       "    .dataframe thead th {\n",
       "        text-align: right;\n",
       "    }\n",
       "</style>\n",
       "<table border=\"1\" class=\"dataframe\">\n",
       "  <thead>\n",
       "    <tr style=\"text-align: right;\">\n",
       "      <th></th>\n",
       "      <th>Satış</th>\n",
       "    </tr>\n",
       "    <tr>\n",
       "      <th>Şehir</th>\n",
       "      <th></th>\n",
       "    </tr>\n",
       "  </thead>\n",
       "  <tbody>\n",
       "    <tr>\n",
       "      <th>Ankara</th>\n",
       "      <td>400</td>\n",
       "    </tr>\n",
       "    <tr>\n",
       "      <th>İstanbul</th>\n",
       "      <td>150</td>\n",
       "    </tr>\n",
       "    <tr>\n",
       "      <th>İzmir</th>\n",
       "      <td>200</td>\n",
       "    </tr>\n",
       "  </tbody>\n",
       "</table>\n",
       "</div>"
      ],
      "text/plain": [
       "          Satış\n",
       "Şehir          \n",
       "Ankara      400\n",
       "İstanbul    150\n",
       "İzmir       200"
      ]
     },
     "execution_count": 8,
     "metadata": {},
     "output_type": "execute_result"
    }
   ],
   "source": [
    "import pandas as pd \n",
    "df = pd.DataFrame({\n",
    "    \"Şehir\" : [\"Ankara\", \"İzmir\", \"İstanbul\", \"Ankara\"],\n",
    "    \"Satış\": [100, 200, 150, 300]\n",
    "})\n",
    "\n",
    "df.groupby(\"Şehir\").sum()\n"
   ]
  },
  {
   "cell_type": "markdown",
   "metadata": {},
   "source": [
    "#### **`agg()`**\n",
    "- **Ne yapar?** `groupby()` ile grupladıktan sonra, gruplar üzerinde birden fazla işlem (örneğin hem toplam hem ortalama) yapmak için kullanılır. `agg()` (aggregate’in kısaltması), toplama işlemini özelleştirir.\n",
    "- **Nasıl çalışır?** `groupby()`’dan sonra gelir ve hangi fonksiyonların uygulanacağını belirtirsin.\n",
    "- **Kullanımı:**\n",
    "  ```python\n",
    "  sonuc = df.groupby('Şehir').agg({'Satış': ['sum', 'mean']})\n",
    "  print(sonuc)\n",
    "  ```\n",
    "  Çıktı:\n",
    "  ```\n",
    "            Satış      \n",
    "              sum  mean\n",
    "  Şehir               \n",
    "  Ankara      250   125\n",
    "  İstanbul    200   200\n",
    "  İzmir       300   300\n",
    "  ```\n",
    "- **Ne zaman kullanılır?** Gruplar üzerinde birden fazla özet hesaplama yapman gerektiğinde veya özel bir fonksiyon uygulamak istediğinde.\n"
   ]
  },
  {
   "cell_type": "code",
   "execution_count": 7,
   "metadata": {},
   "outputs": [
    {
     "data": {
      "application/vnd.microsoft.datawrangler.viewer.v0+json": {
       "columns": [
        {
         "name": "Şehir",
         "rawType": "object",
         "type": "string"
        },
        {
         "name": "('Satış', 'sum')",
         "rawType": "int64",
         "type": "integer"
        },
        {
         "name": "('Satış', 'mean')",
         "rawType": "float64",
         "type": "float"
        }
       ],
       "conversionMethod": "pd.DataFrame",
       "ref": "ff2ba300-97e5-4199-be0d-9ab1f1420ca1",
       "rows": [
        [
         "Ankara",
         "400",
         "200.0"
        ],
        [
         "İstanbul",
         "150",
         "150.0"
        ],
        [
         "İzmir",
         "200",
         "200.0"
        ]
       ],
       "shape": {
        "columns": 2,
        "rows": 3
       }
      },
      "text/html": [
       "<div>\n",
       "<style scoped>\n",
       "    .dataframe tbody tr th:only-of-type {\n",
       "        vertical-align: middle;\n",
       "    }\n",
       "\n",
       "    .dataframe tbody tr th {\n",
       "        vertical-align: top;\n",
       "    }\n",
       "\n",
       "    .dataframe thead tr th {\n",
       "        text-align: left;\n",
       "    }\n",
       "\n",
       "    .dataframe thead tr:last-of-type th {\n",
       "        text-align: right;\n",
       "    }\n",
       "</style>\n",
       "<table border=\"1\" class=\"dataframe\">\n",
       "  <thead>\n",
       "    <tr>\n",
       "      <th></th>\n",
       "      <th colspan=\"2\" halign=\"left\">Satış</th>\n",
       "    </tr>\n",
       "    <tr>\n",
       "      <th></th>\n",
       "      <th>sum</th>\n",
       "      <th>mean</th>\n",
       "    </tr>\n",
       "    <tr>\n",
       "      <th>Şehir</th>\n",
       "      <th></th>\n",
       "      <th></th>\n",
       "    </tr>\n",
       "  </thead>\n",
       "  <tbody>\n",
       "    <tr>\n",
       "      <th>Ankara</th>\n",
       "      <td>400</td>\n",
       "      <td>200.0</td>\n",
       "    </tr>\n",
       "    <tr>\n",
       "      <th>İstanbul</th>\n",
       "      <td>150</td>\n",
       "      <td>150.0</td>\n",
       "    </tr>\n",
       "    <tr>\n",
       "      <th>İzmir</th>\n",
       "      <td>200</td>\n",
       "      <td>200.0</td>\n",
       "    </tr>\n",
       "  </tbody>\n",
       "</table>\n",
       "</div>"
      ],
      "text/plain": [
       "         Satış       \n",
       "           sum   mean\n",
       "Şehir                \n",
       "Ankara     400  200.0\n",
       "İstanbul   150  150.0\n",
       "İzmir      200  200.0"
      ]
     },
     "execution_count": 7,
     "metadata": {},
     "output_type": "execute_result"
    }
   ],
   "source": [
    "df.groupby(\"Şehir\").agg({\"Satış\": [\"sum\", \"mean\"]})"
   ]
  },
  {
   "cell_type": "markdown",
   "metadata": {},
   "source": [
    "\n",
    "#### **Aralarındaki fark:**\n",
    "- `groupby()` gruplamayı yapar, ama işlem belirtmezsen bir şey hesaplamaz.\n",
    "- `agg()` ise bu gruplar üzerinde ne yapacağını (toplam, ortalama, vb.) söyler.\n",
    "- **Birlikte kullanım:** Genelde `df.groupby('sütun').agg(fonksiyon)` şeklinde birleşirler.\n",
    "\n",
    "#### **Hangisini ne zaman kullanmalısın?**\n",
    "- Sadece basit bir toplama, ortalama gibi tek bir işlem yapacaksan `groupby()`’dan sonra direkt `sum()`, `mean()` gibi metodları kullanabilirsin.\n",
    "- Birden fazla işlem (örneğin hem toplam hem ortalama) veya özel bir fonksiyon (kendi yazdığın bir hesaplama) gerekiyorsa `agg()` tercih et."
   ]
  },
  {
   "cell_type": "markdown",
   "metadata": {},
   "source": [
    "### 2. **`merge()` ve `concat()`**\n",
    "Bu iki metod birleştirme ile ilgilidir, ama birleştirme şekilleri farklıdır.\n",
    "\n",
    "#### **`concat()`**\n",
    "- **Ne yapar?** Veri çerçevelerini (DataFrame) veya serileri (Series) yan yana (yatay) veya alt alta (dikey) birleştirir. Yani birleştirme \"fiziksel\" bir ekleme gibidir.\n",
    "- **Nasıl çalışır?** Sütun isimlerine veya indekslere bakarak veriyi birleştirir, ama sütunlar arasında bir mantıksal ilişki kurmaz.\n",
    "- **Kullanımı:**\n",
    "  ```python\n",
    "  df1 = pd.DataFrame({'A': [1, 2], 'B': [3, 4]})\n",
    "  df2 = pd.DataFrame({'A': [5, 6], 'B': [7, 8]})\n",
    "\n",
    "  # Dikey birleştirme (alt alta)\n",
    "  sonuc = pd.concat([df1, df2])\n",
    "  print(sonuc)\n",
    "  ```\n",
    "  Çıktı:\n",
    "  ```\n",
    "     A  B\n",
    "  0  1  3\n",
    "  1  2  4\n",
    "  0  5  7\n",
    "  1  6  8\n",
    "  ```\n",
    "  ```python\n",
    "  # Yatay birleştirme (yan yana)\n",
    "  sonuc = pd.concat([df1, df2], axis=1)\n",
    "  print(sonuc)\n",
    "  ```\n",
    "  Çıktı:\n",
    "  ```\n",
    "     A  B  A  B\n",
    "  0  1  3  5  7\n",
    "  1  2  4  6  8\n",
    "  ```\n",
    "- **Ne zaman kullanılır?** Aynı yapıya sahip verileri (örneğin aynı sütun isimleri) birleştirmek istediğinde. Mesela, farklı ayların satış verilerini alt alta eklemek gibi."
   ]
  },
  {
   "cell_type": "code",
   "execution_count": 12,
   "metadata": {},
   "outputs": [
    {
     "data": {
      "application/vnd.microsoft.datawrangler.viewer.v0+json": {
       "columns": [
        {
         "name": "index",
         "rawType": "int64",
         "type": "integer"
        },
        {
         "name": "index",
         "rawType": "int64",
         "type": "integer"
        },
        {
         "name": "A",
         "rawType": "int64",
         "type": "integer"
        },
        {
         "name": "B",
         "rawType": "int64",
         "type": "integer"
        }
       ],
       "conversionMethod": "pd.DataFrame",
       "ref": "27b0adef-db28-4f32-bc89-6fa6f40c4cf3",
       "rows": [
        [
         "0",
         "0",
         "1",
         "3"
        ],
        [
         "1",
         "1",
         "2",
         "4"
        ],
        [
         "2",
         "0",
         "5",
         "7"
        ],
        [
         "3",
         "1",
         "6",
         "8"
        ]
       ],
       "shape": {
        "columns": 3,
        "rows": 4
       }
      },
      "text/html": [
       "<div>\n",
       "<style scoped>\n",
       "    .dataframe tbody tr th:only-of-type {\n",
       "        vertical-align: middle;\n",
       "    }\n",
       "\n",
       "    .dataframe tbody tr th {\n",
       "        vertical-align: top;\n",
       "    }\n",
       "\n",
       "    .dataframe thead th {\n",
       "        text-align: right;\n",
       "    }\n",
       "</style>\n",
       "<table border=\"1\" class=\"dataframe\">\n",
       "  <thead>\n",
       "    <tr style=\"text-align: right;\">\n",
       "      <th></th>\n",
       "      <th>index</th>\n",
       "      <th>A</th>\n",
       "      <th>B</th>\n",
       "    </tr>\n",
       "  </thead>\n",
       "  <tbody>\n",
       "    <tr>\n",
       "      <th>0</th>\n",
       "      <td>0</td>\n",
       "      <td>1</td>\n",
       "      <td>3</td>\n",
       "    </tr>\n",
       "    <tr>\n",
       "      <th>1</th>\n",
       "      <td>1</td>\n",
       "      <td>2</td>\n",
       "      <td>4</td>\n",
       "    </tr>\n",
       "    <tr>\n",
       "      <th>2</th>\n",
       "      <td>0</td>\n",
       "      <td>5</td>\n",
       "      <td>7</td>\n",
       "    </tr>\n",
       "    <tr>\n",
       "      <th>3</th>\n",
       "      <td>1</td>\n",
       "      <td>6</td>\n",
       "      <td>8</td>\n",
       "    </tr>\n",
       "  </tbody>\n",
       "</table>\n",
       "</div>"
      ],
      "text/plain": [
       "   index  A  B\n",
       "0      0  1  3\n",
       "1      1  2  4\n",
       "2      0  5  7\n",
       "3      1  6  8"
      ]
     },
     "execution_count": 12,
     "metadata": {},
     "output_type": "execute_result"
    }
   ],
   "source": [
    "df1 = pd.DataFrame({\"A\": [1,2], \"B\": [3,4]})\n",
    "df2 = pd.DataFrame({\"A\": [5,6], \"B\": [7,8]})\n",
    "\n",
    "# Dikey birleştirme\n",
    "pd.concat([df1, df2]).reset_index()"
   ]
  },
  {
   "cell_type": "code",
   "execution_count": 15,
   "metadata": {},
   "outputs": [
    {
     "data": {
      "application/vnd.microsoft.datawrangler.viewer.v0+json": {
       "columns": [
        {
         "name": "index",
         "rawType": "int64",
         "type": "integer"
        },
        {
         "name": "A",
         "rawType": "int64",
         "type": "integer"
        },
        {
         "name": "B",
         "rawType": "int64",
         "type": "integer"
        },
        {
         "name": "A",
         "rawType": "int64",
         "type": "integer"
        },
        {
         "name": "B",
         "rawType": "int64",
         "type": "integer"
        }
       ],
       "conversionMethod": "pd.DataFrame",
       "ref": "9dec07b8-3606-472b-a3d3-5503e6fcb223",
       "rows": [
        [
         "0",
         "1",
         "3",
         "5",
         "7"
        ],
        [
         "1",
         "2",
         "4",
         "6",
         "8"
        ]
       ],
       "shape": {
        "columns": 4,
        "rows": 2
       }
      },
      "text/html": [
       "<div>\n",
       "<style scoped>\n",
       "    .dataframe tbody tr th:only-of-type {\n",
       "        vertical-align: middle;\n",
       "    }\n",
       "\n",
       "    .dataframe tbody tr th {\n",
       "        vertical-align: top;\n",
       "    }\n",
       "\n",
       "    .dataframe thead th {\n",
       "        text-align: right;\n",
       "    }\n",
       "</style>\n",
       "<table border=\"1\" class=\"dataframe\">\n",
       "  <thead>\n",
       "    <tr style=\"text-align: right;\">\n",
       "      <th></th>\n",
       "      <th>A</th>\n",
       "      <th>B</th>\n",
       "      <th>A</th>\n",
       "      <th>B</th>\n",
       "    </tr>\n",
       "  </thead>\n",
       "  <tbody>\n",
       "    <tr>\n",
       "      <th>0</th>\n",
       "      <td>1</td>\n",
       "      <td>3</td>\n",
       "      <td>5</td>\n",
       "      <td>7</td>\n",
       "    </tr>\n",
       "    <tr>\n",
       "      <th>1</th>\n",
       "      <td>2</td>\n",
       "      <td>4</td>\n",
       "      <td>6</td>\n",
       "      <td>8</td>\n",
       "    </tr>\n",
       "  </tbody>\n",
       "</table>\n",
       "</div>"
      ],
      "text/plain": [
       "   A  B  A  B\n",
       "0  1  3  5  7\n",
       "1  2  4  6  8"
      ]
     },
     "execution_count": 15,
     "metadata": {},
     "output_type": "execute_result"
    }
   ],
   "source": [
    "# Yatay birleştirme\n",
    "pd.concat([df1, df2], axis=1)"
   ]
  },
  {
   "cell_type": "markdown",
   "metadata": {},
   "source": [
    "#### **`merge()`**\n",
    "- **Ne yapar?** Verileri bir anahtar sütuna (key) göre birleştirir. SQL’deki `JOIN` işlemine benzer. Yani birleştirme mantıksal bir ilişkiye dayanır.\n",
    "- **Nasıl çalışır?** İki veri çerçevesini ortak bir sütuna (veya sütunlara) göre eşleştirir. `inner`, `left`, `right`, `outer` gibi birleştirme türlerini destekler.\n",
    "- **Kullanımı:**\n",
    "  ```python\n",
    "  df1 = pd.DataFrame({'ID': [1, 2, 3], 'İsim': ['Ali', 'Veli', 'Ayşe']})\n",
    "  df2 = pd.DataFrame({'ID': [2, 3, 4], 'Yaş': [25, 30, 35]})\n",
    "\n",
    "  sonuc = pd.merge(df1, df2, on='ID', how='inner')  # Sadece eşleşenler\n",
    "  print(sonuc)\n",
    "  ```\n",
    "  Çıktı:\n",
    "  ```\n",
    "     ID  İsim  Yaş\n",
    "  0   2  Veli   25\n",
    "  1   3  Ayşe   30\n",
    "  ```\n",
    "- **Ne zaman kullanılır?** Farklı veri çerçevelerinde ortak bir sütun (örneğin ID) üzerinden anlamlı bir birleştirme yapmak istediğinde. Mesela, müşteri bilgilerini ve sipariş bilgilerini ID’ye göre birleştirmek gibi."
   ]
  },
  {
   "cell_type": "markdown",
   "metadata": {},
   "source": []
  },
  {
   "cell_type": "code",
   "execution_count": 17,
   "metadata": {},
   "outputs": [
    {
     "data": {
      "application/vnd.microsoft.datawrangler.viewer.v0+json": {
       "columns": [
        {
         "name": "index",
         "rawType": "int64",
         "type": "integer"
        },
        {
         "name": "ID",
         "rawType": "int64",
         "type": "integer"
        },
        {
         "name": "İsim",
         "rawType": "object",
         "type": "string"
        },
        {
         "name": "Yaş",
         "rawType": "int64",
         "type": "integer"
        }
       ],
       "conversionMethod": "pd.DataFrame",
       "ref": "f0a779e9-663e-4a7f-9808-8573bd448303",
       "rows": [
        [
         "0",
         "2",
         "Veli",
         "25"
        ],
        [
         "1",
         "3",
         "Ayşe",
         "30"
        ]
       ],
       "shape": {
        "columns": 3,
        "rows": 2
       }
      },
      "text/html": [
       "<div>\n",
       "<style scoped>\n",
       "    .dataframe tbody tr th:only-of-type {\n",
       "        vertical-align: middle;\n",
       "    }\n",
       "\n",
       "    .dataframe tbody tr th {\n",
       "        vertical-align: top;\n",
       "    }\n",
       "\n",
       "    .dataframe thead th {\n",
       "        text-align: right;\n",
       "    }\n",
       "</style>\n",
       "<table border=\"1\" class=\"dataframe\">\n",
       "  <thead>\n",
       "    <tr style=\"text-align: right;\">\n",
       "      <th></th>\n",
       "      <th>ID</th>\n",
       "      <th>İsim</th>\n",
       "      <th>Yaş</th>\n",
       "    </tr>\n",
       "  </thead>\n",
       "  <tbody>\n",
       "    <tr>\n",
       "      <th>0</th>\n",
       "      <td>2</td>\n",
       "      <td>Veli</td>\n",
       "      <td>25</td>\n",
       "    </tr>\n",
       "    <tr>\n",
       "      <th>1</th>\n",
       "      <td>3</td>\n",
       "      <td>Ayşe</td>\n",
       "      <td>30</td>\n",
       "    </tr>\n",
       "  </tbody>\n",
       "</table>\n",
       "</div>"
      ],
      "text/plain": [
       "   ID  İsim  Yaş\n",
       "0   2  Veli   25\n",
       "1   3  Ayşe   30"
      ]
     },
     "execution_count": 17,
     "metadata": {},
     "output_type": "execute_result"
    }
   ],
   "source": [
    "df1 = pd.DataFrame({'ID': [1, 2, 3], 'İsim': ['Ali', 'Veli', 'Ayşe']})\n",
    "df2 = pd.DataFrame({'ID': [2, 3, 4], 'Yaş': [25, 30, 35]})\n",
    "\n",
    "pd.merge(df1, df2, on=\"ID\", how=\"inner\")"
   ]
  },
  {
   "cell_type": "markdown",
   "metadata": {},
   "source": [
    "#### **Aralarındaki fark:**\n",
    "- `concat()` basit bir ekleme yapar (yapıştırma gibi), sütunlar arasındaki ilişkiyi umursamaz.\n",
    "- `merge()` ise bir anahtar sütuna göre verileri eşleştirir ve mantıksal bir birleşim sağlar.\n",
    "- **`concat()` yatay/dikey birleştirme** için, **`merge()` ilişkisel birleştirme** içindir.\n",
    "\n",
    "#### **Hangisini ne zaman kullanmalısın?**\n",
    "- Eğer veriler aynı yapıda (aynı sütunlar) ve sadece alt alta/yan yana eklemek istiyorsan → `concat()`.\n",
    "- Eğer veriler farklı yapılarda ama ortak bir sütun (örneğin ID, isim) üzerinden birleştirmek istiyorsan → `merge()`.\n",
    "\n",
    "---\n",
    "\n",
    "### Özet Tablo\n",
    "| **Metod**    | **Amaç**             | **Ne Zaman Kullanılır?**                          |\n",
    "|---------------|----------------------|-------------------------------------------------|\n",
    "| `groupby()`   | Gruplama            | Veriyi kategorilere ayırıp özet almak           |\n",
    "| `agg()`       | Gruplarda hesaplama | Gruplar üzerinde birden fazla/spesifik işlem    |\n",
    "| `concat()`    | Fiziksel birleştirme| Aynı yapıda verileri alt alta/yan yana eklemek  |\n",
    "| `merge()`     | Mantıksal birleştirme| Ortak sütuna göre verileri ilişkilendirmek     |\n",
    "\n",
    "---\n",
    "\n",
    "### Pratik Örneklerle Karar Verme\n",
    "1. **Sorun:** Elimde şehir bazında satışlar var, her şehirdeki toplam ve ortalama satışları bulmak istiyorum.\n",
    "   - **Çözüm:** `groupby('Şehir').agg({'Satış': ['sum', 'mean']})`\n",
    "\n",
    "2. **Sorun:** İki farklı dosyadan gelen satış verilerini alt alta eklemek istiyorum.\n",
    "   - **Çözüm:** `pd.concat([df1, df2])`\n",
    "\n",
    "3. **Sorun:** Müşteri isimlerinin olduğu bir tablo ile siparişlerin olduğu bir tabloyu ID’ye göre birleştirmek istiyorum.\n",
    "   - **Çözüm:** `pd.merge(df_musteriler, df_siparisler, on='ID')`"
   ]
  }
 ],
 "metadata": {
  "kernelspec": {
   "display_name": "Python 3",
   "language": "python",
   "name": "python3"
  },
  "language_info": {
   "codemirror_mode": {
    "name": "ipython",
    "version": 3
   },
   "file_extension": ".py",
   "mimetype": "text/x-python",
   "name": "python",
   "nbconvert_exporter": "python",
   "pygments_lexer": "ipython3",
   "version": "3.10.1"
  }
 },
 "nbformat": 4,
 "nbformat_minor": 2
}
